{
 "cells": [
  {
   "cell_type": "code",
   "execution_count": null,
   "id": "d108a294",
   "metadata": {
    "vscode": {
     "languageId": "plaintext"
    }
   },
   "outputs": [],
   "source": [
    "# test_car_color.ipynb\n",
    "\n",
    "import torch\n",
    "from torchvision import models, transforms\n",
    "from PIL import Image\n",
    "import matplotlib.pyplot as plt\n",
    "import os\n",
    "\n",
    "# Configurações\n",
    "device = torch.device(\"cuda\" if torch.cuda.is_available() else \"cpu\")\n",
    "model_path = 'car_color_model.pt'\n",
    "\n",
    "# Transformações (iguais ao treino)\n",
    "transform = transforms.Compose([\n",
    "    transforms.Resize((224, 224)),\n",
    "    transforms.ToTensor(),\n",
    "    transforms.Normalize([0.5], [0.5])\n",
    "])\n",
    "\n",
    "# Função para carregar e prever a imagem\n",
    "def predict_image(img_path, model, class_names):\n",
    "    img = Image.open(img_path).convert('RGB')\n",
    "    img_tensor = transform(img).unsqueeze(0).to(device)\n",
    "\n",
    "    model.eval()\n",
    "    with torch.no_grad():\n",
    "        output = model(img_tensor)\n",
    "        _, predicted = torch.max(output, 1)\n",
    "\n",
    "    return class_names[predicted.item()], img\n",
    "\n",
    "# Carregar modelo treinado\n",
    "num_classes = len(os.listdir('data/train'))\n",
    "class_names = sorted(os.listdir('data/train'))\n",
    "\n",
    "model = models.resnet18(pretrained=False)\n",
    "model.fc = torch.nn.Linear(model.fc.in_features, num_classes)\n",
    "model.load_state_dict(torch.load(model_path, map_location=device))\n",
    "model.to(device)\n",
    "\n",
    "# 📸 Teste com imagem (adicione sua imagem no mesmo diretório do notebook)\n",
    "img_path = 'carro_teste.jpg'  # Substitua com o nome da imagem que você quiser testar\n",
    "predicted_class, img = predict_image(img_path, model, class_names)\n",
    "\n",
    "# Visualização\n",
    "plt.imshow(img)\n",
    "plt.axis('off')\n",
    "plt.title(f'Predição: {predicted_class}', fontsize=16)\n",
    "plt.show()\n"
   ]
  }
 ],
 "metadata": {
  "language_info": {
   "name": "python"
  }
 },
 "nbformat": 4,
 "nbformat_minor": 5
}
